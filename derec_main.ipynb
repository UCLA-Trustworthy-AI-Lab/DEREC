{
 "cells": [
  {
   "cell_type": "code",
   "execution_count": 30,
   "id": "e1458ea3",
   "metadata": {},
   "outputs": [],
   "source": [
    "import pandas as pd\n",
    "import numpy as np\n",
    "from Data_Clean_Room import data_clean_room\n",
    "import matplotlib.pyplot as plt\n",
    "from realtabformer import REaLTabFormer\n",
    "import os\n",
    "from pathlib import Path\n",
    "from ctgan import CTGAN"
   ]
  },
  {
   "cell_type": "markdown",
   "id": "5ba9b3ce",
   "metadata": {},
   "source": [
    "# This file demonstrates the synthesis process of each mentioned model in the paper"
   ]
  },
  {
   "cell_type": "markdown",
   "id": "b955c9e6",
   "metadata": {},
   "source": [
    "# DEREC-REaLTabFormer"
   ]
  },
  {
   "cell_type": "code",
   "execution_count": 2,
   "id": "53900d8c",
   "metadata": {},
   "outputs": [],
   "source": [
    "task_ids = [10005, 10006, 14584, 22100, 31941, 31996, 34382, 34975]\n",
    "\n",
    "for task_id in task_ids:\n",
    "\n",
    "    d1 = pd.read_csv(f\"data/task_id_{task_id}/feeds.csv\")\n",
    "    d2 = pd.read_csv(f\"data/task_id_{task_id}/ads.csv\")\n",
    "    dcr = data_clean_room(d1, d2, 'user_id')\n",
    "    dcr.derec()\n",
    "    dcr.sampling(200)\n",
    "    dcr.synthesize()\n",
    "\n",
    "\n",
    "    ###Export codes are commented as the data is synthesized already. \n",
    "    #dcr_parent_syn.to_csv(f\"data/task_id_{task_id}/DEREC/synthetic/realtabformer_syn_parent.csv\")\n",
    "    #derec_child_1_syn.to_csv(f\"data/task_id_{task_id}/DEREC/synthetic/realtabformer_syn_child_ads.csv\")\n",
    "    #derec_child_2_syn.to_csv(f\"data/task_id_{task_id}/DEREC/synthetic/realtabformer_syn_child_ads.csv\")"
   ]
  },
  {
   "cell_type": "markdown",
   "id": "50161584",
   "metadata": {},
   "source": [
    "# Control Group\n",
    "\n",
    "It is necessary to keep only the unique observation of one table to 'forcefully' comply with the multitable synthesizer, which results in worsened performance."
   ]
  },
  {
   "cell_type": "code",
   "execution_count": 25,
   "id": "ea9e8bb0",
   "metadata": {},
   "outputs": [
    {
     "name": "stdout",
     "output_type": "stream",
     "text": [
      "Computing the sensitivity threshold...\n",
      "Using parallel computation!!!\n"
     ]
    },
    {
     "name": "stderr",
     "output_type": "stream",
     "text": [
      "C:\\Users\\thoma\\anaconda3\\Lib\\site-packages\\realtabformer\\realtabformer.py:570: UserWarning: Duplicate rate (0.0) in the data is zero. The `qt_interval` will be set                     to qt_interval_unique=100.\n",
      "  warnings.warn(\n",
      "C:\\Users\\thoma\\anaconda3\\Lib\\site-packages\\realtabformer\\realtabformer.py:597: UserWarning: qt_interval adjusted from 100 to 2...\n",
      "  warnings.warn(\n"
     ]
    },
    {
     "data": {
      "application/vnd.jupyter.widget-view+json": {
       "model_id": "08cf951af72d4c28a8ac6f870aa27110",
       "version_major": 2,
       "version_minor": 0
      },
      "text/plain": [
       "Bootstrap round:   0%|          | 0/5 [00:00<?, ?it/s]"
      ]
     },
     "metadata": {},
     "output_type": "display_data"
    },
    {
     "name": "stdout",
     "output_type": "stream",
     "text": [
      "Sensitivity threshold summary:\n",
      "count    5.000000\n",
      "mean     0.002273\n",
      "std      0.010714\n",
      "min     -0.015909\n",
      "25%      0.002273\n",
      "50%      0.005303\n",
      "75%      0.008333\n",
      "max      0.011364\n",
      "dtype: float64\n",
      "Sensitivity threshold: 0.010757575757575754 qt_max: 0.05\n"
     ]
    },
    {
     "data": {
      "application/vnd.jupyter.widget-view+json": {
       "model_id": "75c49f6243494459a9e93a2f433cb9b1",
       "version_major": 2,
       "version_minor": 0
      },
      "text/plain": [
       "Map:   0%|          | 0/200 [00:00<?, ? examples/s]"
      ]
     },
     "metadata": {},
     "output_type": "display_data"
    },
    {
     "name": "stderr",
     "output_type": "stream",
     "text": [
      "C:\\Users\\thoma\\anaconda3\\Lib\\site-packages\\transformers\\training_args.py:1494: FutureWarning: `evaluation_strategy` is deprecated and will be removed in version 4.46 of 🤗 Transformers. Use `eval_strategy` instead\n",
      "  warnings.warn(\n",
      "C:\\Users\\thoma\\anaconda3\\Lib\\site-packages\\accelerate\\accelerator.py:482: FutureWarning: `torch.cuda.amp.GradScaler(args...)` is deprecated. Please use `torch.amp.GradScaler('cuda', args...)` instead.\n",
      "  self.scaler = torch.cuda.amp.GradScaler(**kwargs)\n"
     ]
    },
    {
     "data": {
      "text/html": [
       "\n",
       "    <div>\n",
       "      \n",
       "      <progress value='8' max='8' style='width:300px; height:20px; vertical-align: middle;'></progress>\n",
       "      [8/8 00:01, Epoch 1/1]\n",
       "    </div>\n",
       "    <table border=\"1\" class=\"dataframe\">\n",
       "  <thead>\n",
       " <tr style=\"text-align: left;\">\n",
       "      <th>Step</th>\n",
       "      <th>Training Loss</th>\n",
       "      <th>Validation Loss</th>\n",
       "    </tr>\n",
       "  </thead>\n",
       "  <tbody>\n",
       "  </tbody>\n",
       "</table><p>"
      ],
      "text/plain": [
       "<IPython.core.display.HTML object>"
      ]
     },
     "metadata": {},
     "output_type": "display_data"
    },
    {
     "data": {
      "application/vnd.jupyter.widget-view+json": {
       "model_id": "87f33856378543738d95bf327a3bd2eb",
       "version_major": 2,
       "version_minor": 0
      },
      "text/plain": [
       "  0%|          | 0/99 [00:00<?, ?it/s]"
      ]
     },
     "metadata": {},
     "output_type": "display_data"
    },
    {
     "name": "stdout",
     "output_type": "stream",
     "text": [
      "Generated 0 invalid samples out of total 128 samples generated. Sampling efficiency is: 100.0000%\n",
      "Critic round: 5,                     sensitivity_threshold: 0.010757575757575754,                         val_sensitivity: -0.0011616161616161626,                             val_sensitivities: [-0.01287878787878788, 0.0053030303030303025, 0.01136363636363636, 0.017424242424242422, -0.00681818181818182, -0.000757575757575759, 0.03257575757575758, -0.01287878787878788, -0.01287878787878788, -0.00984848484848485, -0.000757575757575759, 0.008333333333333331, -0.01893939393939394, 0.008333333333333333, -0.025]\n"
     ]
    },
    {
     "name": "stderr",
     "output_type": "stream",
     "text": [
      "C:\\Users\\thoma\\anaconda3\\Lib\\site-packages\\realtabformer\\realtabformer.py:839: UserWarning: No best model was saved. Loading the closest model to the sensitivity_threshold.\n",
      "  warnings.warn(\n"
     ]
    },
    {
     "name": "stdout",
     "output_type": "stream",
     "text": [
      "Copying artefacts from: best-disc-model\n",
      "Copying artefacts from: mean-best-disc-model\n",
      "Copying artefacts from: not-best-disc-model\n",
      "Copying artefacts from: last-epoch-model\n"
     ]
    },
    {
     "name": "stderr",
     "output_type": "stream",
     "text": [
      "C:\\Users\\thoma\\anaconda3\\Lib\\site-packages\\realtabformer\\realtabformer.py:177: FutureWarning: You are using `torch.load` with `weights_only=False` (the current default value), which uses the default pickle module implicitly. It is possible to construct malicious pickle data which will execute arbitrary code during unpickling (See https://github.com/pytorch/pytorch/blob/main/SECURITY.md#untrusted-models for more details). In a future release, the default value for `weights_only` will be flipped to `True`. This limits the functions that could be executed during unpickling. Arbitrary objects will no longer be allowed to be loaded via this mode unless they are explicitly allowlisted by the user via `torch.serialization.add_safe_globals`. We recommend you start setting `weights_only=True` for any use case where you don't have full control of the loaded file. Please open an issue on GitHub for any issues related to this experimental feature.\n",
      "  torch.load(parent_realtabformer_path / ModelFileName.rtf_model_pt)\n",
      "C:\\Users\\thoma\\anaconda3\\Lib\\site-packages\\realtabformer\\realtabformer.py:313: UserWarning: A trained model for the parent table is available. The encoder will use the                     pretrained config and weights.\n",
      "  warnings.warn(\n",
      "C:\\Users\\thoma\\anaconda3\\Lib\\site-packages\\realtabformer\\data_utils.py:152: UserWarning: Default values will be overridden because transform_data was passed...\n",
      "  warnings.warn(\n",
      "C:\\Users\\thoma\\anaconda3\\Lib\\site-packages\\realtabformer\\data_utils.py:152: UserWarning: Default values will be overridden because transform_data was passed...\n",
      "  warnings.warn(\n",
      "C:\\Users\\thoma\\anaconda3\\Lib\\site-packages\\realtabformer\\data_utils.py:152: UserWarning: Default values will be overridden because transform_data was passed...\n",
      "  warnings.warn(\n",
      "C:\\Users\\thoma\\anaconda3\\Lib\\site-packages\\realtabformer\\data_utils.py:152: UserWarning: Default values will be overridden because transform_data was passed...\n",
      "  warnings.warn(\n",
      "C:\\Users\\thoma\\anaconda3\\Lib\\site-packages\\realtabformer\\data_utils.py:152: UserWarning: Default values will be overridden because transform_data was passed...\n",
      "  warnings.warn(\n",
      "C:\\Users\\thoma\\anaconda3\\Lib\\site-packages\\realtabformer\\data_utils.py:152: UserWarning: Default values will be overridden because transform_data was passed...\n",
      "  warnings.warn(\n",
      "C:\\Users\\thoma\\anaconda3\\Lib\\site-packages\\realtabformer\\data_utils.py:152: UserWarning: Default values will be overridden because transform_data was passed...\n",
      "  warnings.warn(\n",
      "C:\\Users\\thoma\\anaconda3\\Lib\\site-packages\\realtabformer\\data_utils.py:152: UserWarning: Default values will be overridden because transform_data was passed...\n",
      "  warnings.warn(\n",
      "C:\\Users\\thoma\\anaconda3\\Lib\\site-packages\\realtabformer\\data_utils.py:152: UserWarning: Default values will be overridden because transform_data was passed...\n",
      "  warnings.warn(\n",
      "C:\\Users\\thoma\\anaconda3\\Lib\\site-packages\\realtabformer\\data_utils.py:152: UserWarning: Default values will be overridden because transform_data was passed...\n",
      "  warnings.warn(\n",
      "C:\\Users\\thoma\\anaconda3\\Lib\\site-packages\\realtabformer\\data_utils.py:152: UserWarning: Default values will be overridden because transform_data was passed...\n",
      "  warnings.warn(\n",
      "C:\\Users\\thoma\\anaconda3\\Lib\\site-packages\\realtabformer\\data_utils.py:152: UserWarning: Default values will be overridden because transform_data was passed...\n",
      "  warnings.warn(\n",
      "C:\\Users\\thoma\\anaconda3\\Lib\\site-packages\\realtabformer\\data_utils.py:152: UserWarning: Default values will be overridden because transform_data was passed...\n",
      "  warnings.warn(\n",
      "C:\\Users\\thoma\\anaconda3\\Lib\\site-packages\\realtabformer\\data_utils.py:152: UserWarning: Default values will be overridden because transform_data was passed...\n",
      "  warnings.warn(\n",
      "C:\\Users\\thoma\\anaconda3\\Lib\\site-packages\\realtabformer\\data_utils.py:152: UserWarning: Default values will be overridden because transform_data was passed...\n",
      "  warnings.warn(\n",
      "C:\\Users\\thoma\\anaconda3\\Lib\\site-packages\\realtabformer\\data_utils.py:152: UserWarning: Default values will be overridden because transform_data was passed...\n",
      "  warnings.warn(\n",
      "C:\\Users\\thoma\\anaconda3\\Lib\\site-packages\\realtabformer\\data_utils.py:152: UserWarning: Default values will be overridden because transform_data was passed...\n",
      "  warnings.warn(\n",
      "C:\\Users\\thoma\\anaconda3\\Lib\\site-packages\\realtabformer\\data_utils.py:152: UserWarning: Default values will be overridden because transform_data was passed...\n",
      "  warnings.warn(\n",
      "C:\\Users\\thoma\\anaconda3\\Lib\\site-packages\\realtabformer\\data_utils.py:152: UserWarning: Default values will be overridden because transform_data was passed...\n",
      "  warnings.warn(\n",
      "C:\\Users\\thoma\\anaconda3\\Lib\\site-packages\\realtabformer\\data_utils.py:152: UserWarning: Default values will be overridden because transform_data was passed...\n",
      "  warnings.warn(\n"
     ]
    },
    {
     "data": {
      "application/vnd.jupyter.widget-view+json": {
       "model_id": "140617200c904f8dae4108322beb895a",
       "version_major": 2,
       "version_minor": 0
      },
      "text/plain": [
       "Map:   0%|          | 0/4409 [00:00<?, ? examples/s]"
      ]
     },
     "metadata": {},
     "output_type": "display_data"
    },
    {
     "data": {
      "application/vnd.jupyter.widget-view+json": {
       "model_id": "1d57011edb3c4bdab5759ea018cd4263",
       "version_major": 2,
       "version_minor": 0
      },
      "text/plain": [
       "Map:   0%|          | 0/200 [00:00<?, ? examples/s]"
      ]
     },
     "metadata": {},
     "output_type": "display_data"
    },
    {
     "data": {
      "application/vnd.jupyter.widget-view+json": {
       "model_id": "a5a3d35ed10a48729f51a235c8bc424f",
       "version_major": 2,
       "version_minor": 0
      },
      "text/plain": [
       "Filter:   0%|          | 0/200 [00:00<?, ? examples/s]"
      ]
     },
     "metadata": {},
     "output_type": "display_data"
    },
    {
     "name": "stderr",
     "output_type": "stream",
     "text": [
      "C:\\Users\\thoma\\anaconda3\\Lib\\site-packages\\realtabformer\\data_utils.py:765: UserWarning: A total of 114 out of 200 has been removed from the training data because they exceeded the `output_max_length` of 512.\n",
      "  warnings.warn(\n"
     ]
    },
    {
     "data": {
      "application/vnd.jupyter.widget-view+json": {
       "model_id": "da7a61d9f6b54c0d9e085d6ceb7ec1ee",
       "version_major": 2,
       "version_minor": 0
      },
      "text/plain": [
       "Map:   0%|          | 0/86 [00:00<?, ? examples/s]"
      ]
     },
     "metadata": {},
     "output_type": "display_data"
    },
    {
     "name": "stderr",
     "output_type": "stream",
     "text": [
      "C:\\Users\\thoma\\anaconda3\\Lib\\site-packages\\transformers\\training_args.py:1494: FutureWarning: `evaluation_strategy` is deprecated and will be removed in version 4.46 of 🤗 Transformers. Use `eval_strategy` instead\n",
      "  warnings.warn(\n",
      "C:\\Users\\thoma\\anaconda3\\Lib\\site-packages\\accelerate\\accelerator.py:482: FutureWarning: `torch.cuda.amp.GradScaler(args...)` is deprecated. Please use `torch.amp.GradScaler('cuda', args...)` instead.\n",
      "  self.scaler = torch.cuda.amp.GradScaler(**kwargs)\n",
      "C:\\Users\\thoma\\anaconda3\\Lib\\site-packages\\transformers\\models\\encoder_decoder\\modeling_encoder_decoder.py:622: UserWarning: To copy construct from a tensor, it is recommended to use sourceTensor.clone().detach() or sourceTensor.clone().detach().requires_grad_(True), rather than tensor.new_tensor(sourceTensor).\n",
      "  decoder_attention_mask = decoder_input_ids.new_tensor(decoder_input_ids != self.config.pad_token_id)\n",
      "C:\\Users\\thoma\\anaconda3\\Lib\\site-packages\\transformers\\models\\encoder_decoder\\modeling_encoder_decoder.py:642: FutureWarning: Version v4.12.0 introduces a better way to train encoder-decoder models by computing the loss inside the encoder-decoder framework rather than in the decoder itself. You may observe training discrepancies if fine-tuning a model trained with versions anterior to 4.12.0. The decoder_input_ids are now created based on the labels, no need to pass them yourself anymore.\n",
      "  warnings.warn(DEPRECATION_WARNING, FutureWarning)\n"
     ]
    },
    {
     "data": {
      "text/html": [
       "\n",
       "    <div>\n",
       "      \n",
       "      <progress value='30' max='30' style='width:300px; height:20px; vertical-align: middle;'></progress>\n",
       "      [30/30 00:10, Epoch 8/10]\n",
       "    </div>\n",
       "    <table border=\"1\" class=\"dataframe\">\n",
       "  <thead>\n",
       " <tr style=\"text-align: left;\">\n",
       "      <th>Step</th>\n",
       "      <th>Training Loss</th>\n",
       "      <th>Validation Loss</th>\n",
       "    </tr>\n",
       "  </thead>\n",
       "  <tbody>\n",
       "  </tbody>\n",
       "</table><p>"
      ],
      "text/plain": [
       "<IPython.core.display.HTML object>"
      ]
     },
     "metadata": {},
     "output_type": "display_data"
    },
    {
     "data": {
      "application/vnd.jupyter.widget-view+json": {
       "model_id": "79e154bd476c46c9ad5fd54f8e342030",
       "version_major": 2,
       "version_minor": 0
      },
      "text/plain": [
       "  0%|          | 0/200 [00:00<?, ?it/s]"
      ]
     },
     "metadata": {},
     "output_type": "display_data"
    },
    {
     "name": "stdout",
     "output_type": "stream",
     "text": [
      "Generated 0 invalid samples out of total 256 samples generated. Sampling efficiency is: 100.0000%\n"
     ]
    },
    {
     "name": "stderr",
     "output_type": "stream",
     "text": [
      "C:\\Users\\thoma\\anaconda3\\Lib\\site-packages\\realtabformer\\data_utils.py:152: UserWarning: Default values will be overridden because transform_data was passed...\n",
      "  warnings.warn(\n",
      "C:\\Users\\thoma\\anaconda3\\Lib\\site-packages\\realtabformer\\data_utils.py:152: UserWarning: Default values will be overridden because transform_data was passed...\n",
      "  warnings.warn(\n",
      "C:\\Users\\thoma\\anaconda3\\Lib\\site-packages\\realtabformer\\data_utils.py:152: UserWarning: Default values will be overridden because transform_data was passed...\n",
      "  warnings.warn(\n",
      "C:\\Users\\thoma\\anaconda3\\Lib\\site-packages\\realtabformer\\data_utils.py:152: UserWarning: Default values will be overridden because transform_data was passed...\n",
      "  warnings.warn(\n",
      "C:\\Users\\thoma\\anaconda3\\Lib\\site-packages\\realtabformer\\data_utils.py:152: UserWarning: Default values will be overridden because transform_data was passed...\n",
      "  warnings.warn(\n",
      "C:\\Users\\thoma\\anaconda3\\Lib\\site-packages\\realtabformer\\data_utils.py:152: UserWarning: Default values will be overridden because transform_data was passed...\n",
      "  warnings.warn(\n",
      "C:\\Users\\thoma\\anaconda3\\Lib\\site-packages\\realtabformer\\data_utils.py:152: UserWarning: Default values will be overridden because transform_data was passed...\n",
      "  warnings.warn(\n",
      "C:\\Users\\thoma\\anaconda3\\Lib\\site-packages\\realtabformer\\data_utils.py:152: UserWarning: Default values will be overridden because transform_data was passed...\n",
      "  warnings.warn(\n",
      "C:\\Users\\thoma\\anaconda3\\Lib\\site-packages\\realtabformer\\data_utils.py:152: UserWarning: Default values will be overridden because transform_data was passed...\n",
      "  warnings.warn(\n",
      "C:\\Users\\thoma\\anaconda3\\Lib\\site-packages\\realtabformer\\data_utils.py:152: UserWarning: Default values will be overridden because transform_data was passed...\n",
      "  warnings.warn(\n",
      "C:\\Users\\thoma\\anaconda3\\Lib\\site-packages\\realtabformer\\data_utils.py:152: UserWarning: Default values will be overridden because transform_data was passed...\n",
      "  warnings.warn(\n",
      "C:\\Users\\thoma\\anaconda3\\Lib\\site-packages\\realtabformer\\data_utils.py:152: UserWarning: Default values will be overridden because transform_data was passed...\n",
      "  warnings.warn(\n",
      "C:\\Users\\thoma\\anaconda3\\Lib\\site-packages\\realtabformer\\data_utils.py:152: UserWarning: Default values will be overridden because transform_data was passed...\n",
      "  warnings.warn(\n",
      "C:\\Users\\thoma\\anaconda3\\Lib\\site-packages\\realtabformer\\data_utils.py:152: UserWarning: Default values will be overridden because transform_data was passed...\n",
      "  warnings.warn(\n",
      "C:\\Users\\thoma\\anaconda3\\Lib\\site-packages\\realtabformer\\data_utils.py:152: UserWarning: Default values will be overridden because transform_data was passed...\n",
      "  warnings.warn(\n",
      "C:\\Users\\thoma\\anaconda3\\Lib\\site-packages\\realtabformer\\data_utils.py:152: UserWarning: Default values will be overridden because transform_data was passed...\n",
      "  warnings.warn(\n",
      "C:\\Users\\thoma\\anaconda3\\Lib\\site-packages\\realtabformer\\data_utils.py:152: UserWarning: Default values will be overridden because transform_data was passed...\n",
      "  warnings.warn(\n",
      "C:\\Users\\thoma\\anaconda3\\Lib\\site-packages\\realtabformer\\data_utils.py:152: UserWarning: Default values will be overridden because transform_data was passed...\n",
      "  warnings.warn(\n",
      "C:\\Users\\thoma\\anaconda3\\Lib\\site-packages\\realtabformer\\data_utils.py:152: UserWarning: Default values will be overridden because transform_data was passed...\n",
      "  warnings.warn(\n",
      "C:\\Users\\thoma\\anaconda3\\Lib\\site-packages\\realtabformer\\data_utils.py:152: UserWarning: Default values will be overridden because transform_data was passed...\n",
      "  warnings.warn(\n"
     ]
    },
    {
     "data": {
      "application/vnd.jupyter.widget-view+json": {
       "model_id": "f63c9166b5f54048a0b485876058bd62",
       "version_major": 2,
       "version_minor": 0
      },
      "text/plain": [
       "Map:   0%|          | 0/200 [00:00<?, ? examples/s]"
      ]
     },
     "metadata": {},
     "output_type": "display_data"
    },
    {
     "data": {
      "application/vnd.jupyter.widget-view+json": {
       "model_id": "dd5f6a320ced40e8b60bfa39a0dcc54b",
       "version_major": 2,
       "version_minor": 0
      },
      "text/plain": [
       "  0%|          | 0/200 [00:00<?, ?it/s]"
      ]
     },
     "metadata": {},
     "output_type": "display_data"
    }
   ],
   "source": [
    "task_ids = [10005, 10006, 14584, 22100, 31941, 31996, 34382, 34975]\n",
    "\n",
    "\n",
    "\n",
    "for task_id in task_ids:\n",
    "\n",
    "    d = pd.read_csv(f\"data/task_id_{task_id}/feeds.csv\")\n",
    "\n",
    "    d_unique = d.drop_duplicates(subset = 'user_id')\n",
    "\n",
    "    if len(d) < 200:\n",
    "        d_feeds_small = d_unique.sample(len(d_unique), random_state = 1018)\n",
    "    else:\n",
    "        d_feeds_small = d_unique.sample(200, random_state = 1018)\n",
    "\n",
    "\n",
    "    d_ads = pd.read_csv(f\"data/task_id_{task_id}/ads.csv\")\n",
    "\n",
    "\n",
    "    d_ads_small = d_ads[d_ads['user_id'].isin(d_feeds_small['user_id'])]\n",
    "\n",
    "    dc = d_ads_small\n",
    "    dp = d_feeds_small\n",
    "\n",
    "\n",
    "\n",
    "\n",
    "\n",
    "    join_on = \"user_id\"\n",
    "\n",
    "\n",
    "\n",
    "    parent_model = REaLTabFormer(model_type=\"tabular\", epochs = 1, batch_size = 5, train_size = 0.8)\n",
    "    parent_model.fit(dp.drop(join_on, axis=1), num_bootstrap=5)\n",
    "\n",
    "    pdir = Path(\"realtabformer/parent\")\n",
    "    parent_model.save(pdir)\n",
    "\n",
    "\n",
    "    parent_model_path = sorted([p for p in pdir.glob(\"id*\") if p.is_dir()], key=os.path.getmtime)[-1]\n",
    "\n",
    "\n",
    "\n",
    "    child_model_1 = REaLTabFormer(\n",
    "        model_type=\"relational\",\n",
    "        parent_realtabformer_path=parent_model_path, epochs=10, batch_size = 5, train_size = 0.8)\n",
    "\n",
    "    child_model_1.fit(\n",
    "        df=dc,\n",
    "        in_df=dp,\n",
    "        join_on=join_on, num_bootstrap=10)\n",
    "\n",
    "\n",
    "    parent_samples = parent_model.sample(len(dp))\n",
    "\n",
    "\n",
    "    parent_samples.index.name = join_on\n",
    "    parent_samples = parent_samples.reset_index()\n",
    "\n",
    "    child_samples = child_model_1.sample(n_samples = len(dc),\n",
    "        input_unique_ids=parent_samples[join_on],\n",
    "        input_df=parent_samples.drop(join_on, axis=1),\n",
    "        output_max_length = None,\n",
    "        gen_batch = 1)\n",
    "\n",
    "    child_samples.index.name = 'user_id'\n",
    "\n",
    "    ###Export codes are commented as the data is synthesized already. \n",
    "    #parent_samples.to_csv(f\"data/task_id_{task_id}/Control Group/synthetic/realtabformer_syn_parent.csv\", index = False)\n",
    "    #child_samples.to_csv(f\"data/task_id_{task_id}/Control Group/synthetic/realtabformer_syn_child.csv\", index = False)\n"
   ]
  },
  {
   "cell_type": "markdown",
   "id": "29ba07c8",
   "metadata": {},
   "source": [
    "# CT-GAN"
   ]
  },
  {
   "cell_type": "code",
   "execution_count": 31,
   "id": "432a928d",
   "metadata": {},
   "outputs": [],
   "source": [
    "task_ids = [10005, 10006, 14584, 22100, 31941, 31996, 34382, 34975]\n",
    "\n",
    "def extract_numeric_columns(dataset):\n",
    "        d = []\n",
    "        for col in dataset.columns:\n",
    "            if pd.api.types.is_numeric_dtype(dataset[col]):\n",
    "                d.append(dataset[col])\n",
    "        return pd.DataFrame(d).T\n",
    "\n",
    "for task_id in task_ids:\n",
    "    d = pd.read_csv(f\"data/task_id_{task_id}/feeds.csv\")\n",
    "    d_unique = d.drop_duplicates(subset = 'user_id')\n",
    "\n",
    "    if len(d) < 200:\n",
    "        d_feeds_small = d_unique.sample(len(d_unique), random_state = 1018)\n",
    "    else:\n",
    "        d_feeds_small = d_unique.sample(200, random_state = 1018)\n",
    "\n",
    "\n",
    "    d_ads = pd.read_csv(f\"data/task_id_{task_id}/ads.csv\")\n",
    "\n",
    "\n",
    "    d_ads_small = d_ads[d_ads['user_id'].isin(d_feeds_small['user_id'])]\n",
    "\n",
    "    d_ads = d_ads_small\n",
    "    d_feeds = d_feeds_small\n",
    "    \n",
    "    \n",
    "    \n",
    "    d = pd.merge(d_feeds, d_ads, left_on = 'user_id', right_on = 'user_id', how = 'right')\n",
    "    \n",
    "    \n",
    "    d_num = extract_numeric_columns(d)\n",
    "    \n",
    "    discrete_col = []\n",
    "    for col in d_num.columns:\n",
    "        if d_num[col].nunique() < 20:\n",
    "            discrete_col.append(col)\n",
    "            \n",
    "    ctgan = CTGAN(epochs = 50)\n",
    "    ctgan.fit(d_num, discrete_col)\n",
    "    \n",
    "    synthetic_data = ctgan.sample(len(d_num))\n",
    "    \n",
    "    ###Export codes are commented as the data is synthesized already. \n",
    "    #d_num.to_csv(f\"data/task_id_{task_id}/CTGAN/original_dataset.csv\", index = False)\n",
    "    #synthetic_data.to_csv(f\"data/task_id_{task_id}/CTGAN/synthetic_dataset.csv\", index = False)"
   ]
  },
  {
   "cell_type": "markdown",
   "id": "a79c8388",
   "metadata": {},
   "source": [
    "# TabDDPM"
   ]
  },
  {
   "cell_type": "markdown",
   "id": "b832110e",
   "metadata": {},
   "source": [
    "The synthesis was conducted through the TabDDPM synthesizer in Trustworthy AI Lab's own website: https://www.trusetic.com/\n",
    "\n",
    "The synthesis was done by uploading the respective dataset and choosing the correct data type for each column. To replicate, please select the Trusetic Tier 3 Model which currently represents TabDDPM."
   ]
  }
 ],
 "metadata": {
  "kernelspec": {
   "display_name": "Python 3 (ipykernel)",
   "language": "python",
   "name": "python3"
  },
  "language_info": {
   "codemirror_mode": {
    "name": "ipython",
    "version": 3
   },
   "file_extension": ".py",
   "mimetype": "text/x-python",
   "name": "python",
   "nbconvert_exporter": "python",
   "pygments_lexer": "ipython3",
   "version": "3.11.9"
  }
 },
 "nbformat": 4,
 "nbformat_minor": 5
}
