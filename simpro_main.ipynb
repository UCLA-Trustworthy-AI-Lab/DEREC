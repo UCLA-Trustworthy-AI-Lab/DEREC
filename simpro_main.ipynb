{
 "cells": [
  {
   "cell_type": "code",
   "execution_count": 1,
   "id": "b4ba36cc",
   "metadata": {},
   "outputs": [],
   "source": [
    "import pandas as pd \n",
    "import numpy as np\n",
    "from scipy.stats import wasserstein_distance as wd\n",
    "from scipy.stats import chisquare\n",
    "from scipy import stats\n",
    "import warnings\n",
    "from tqdm import tqdm\n",
    "from SIMPRO import simpro"
   ]
  },
  {
   "cell_type": "code",
   "execution_count": 2,
   "id": "91cca199",
   "metadata": {},
   "outputs": [],
   "source": [
    "def create_datasets(df1, other_dfs = ''):\n",
    "    output = {}\n",
    "    output['d1'] = df1\n",
    "    if other_dfs != '':\n",
    "        count = 2\n",
    "        for df in other_dfs:\n",
    "            output[f\"d{count}\"] = df\n",
    "            count += 1\n",
    "    return output"
   ]
  },
  {
   "cell_type": "markdown",
   "id": "4301f207",
   "metadata": {},
   "source": [
    "The task_id subgroup of 31941 is shown as example."
   ]
  },
  {
   "cell_type": "code",
   "execution_count": 81,
   "id": "44a717ec",
   "metadata": {},
   "outputs": [],
   "source": [
    "task_id = 31941"
   ]
  },
  {
   "cell_type": "code",
   "execution_count": 3,
   "id": "7a975d2e",
   "metadata": {},
   "outputs": [],
   "source": [
    "d1_col = pd.read_csv(f\"data/task_id_{task_id}/ads.csv\").columns\n",
    "d2_col = pd.read_csv(f\"data/task_id_{task_id}/feeds.csv\").columns"
   ]
  },
  {
   "cell_type": "markdown",
   "id": "76bcf724",
   "metadata": {},
   "source": [
    "# DEREC-REaLTabFormer"
   ]
  },
  {
   "cell_type": "code",
   "execution_count": 50,
   "id": "0cbe889e",
   "metadata": {},
   "outputs": [],
   "source": [
    "og_p = pd.read_csv(f\"data/task_id_{task_id}/DEREC/original/unique_parent_small.csv\")\n",
    "og_c_1 = pd.read_csv(f\"data/task_id_{task_id}/DEREC/original/ads_child_small.csv\")\n",
    "og_c_2 = pd.read_csv(f\"data/task_id_{task_id}/DEREC/original/feeds_child_small.csv\")\n",
    "\n",
    "og_1 = pd.merge(og_p[['user_id'] + list(d1_col.difference(og_c_1.columns))], og_c_1, left_on = 'user_id', right_on = 'user_id')\n",
    "og_2 = pd.merge(og_p[['user_id'] + list(d2_col.difference(og_c_2.columns))], og_c_2, left_on = 'user_id', right_on = 'user_id')\n"
   ]
  },
  {
   "cell_type": "code",
   "execution_count": 52,
   "id": "f22d3f8a",
   "metadata": {},
   "outputs": [],
   "source": [
    "syn_p = pd.read_csv(f\"data/task_id_{task_id}/DEREC/synthetic/realtabformer_syn_parent.csv\")\n",
    "syn_c_1 = pd.read_csv(f\"data/task_id_{task_id}/DEREC/synthetic/realtabformer_syn_child_ads.csv\")\n",
    "syn_c_2 = pd.read_csv(f\"data/task_id_{task_id}/DEREC/synthetic/realtabformer_syn_child_feeds.csv\")\n",
    "\n",
    "syn_1 = pd.merge(syn_p[['user_id'] + list(d1_col.difference(syn_c_1.columns))], syn_c_1, left_on = 'user_id', right_on = 'user_id')\n",
    "syn_2 = pd.merge(syn_p[['user_id'] + list(d2_col.difference(syn_c_2.columns))], syn_c_2, left_on = 'user_id', right_on = 'user_id')\n"
   ]
  },
  {
   "cell_type": "code",
   "execution_count": 53,
   "id": "a57eb2f9",
   "metadata": {},
   "outputs": [],
   "source": [
    "drop_list = ['e_et', 'pt_d', 'ad_close_list_v001', 'ad_close_list_v002', 'ad_close_list_v003', 'log_id']\n",
    "\n",
    "for col in drop_list:\n",
    "    if col in og_1.columns:\n",
    "        og_1 = og_1.drop(col, axis = 1)\n",
    "    if col in og_2.columns:\n",
    "        og_2 = og_2.drop(col, axis = 1)\n",
    "    if col in syn_1.columns:\n",
    "        syn_1 = syn_1.drop(col, axis = 1)\n",
    "    if col in og_2.columns:\n",
    "        syn_2 = syn_2.drop(col, axis = 1)\n"
   ]
  },
  {
   "cell_type": "code",
   "execution_count": 55,
   "id": "f3913284",
   "metadata": {},
   "outputs": [
    {
     "name": "stderr",
     "output_type": "stream",
     "text": [
      "100%|██████████████████████████████████████████████████████████████████████████████| 1936/1936 [08:31<00:00,  3.79it/s]\n"
     ]
    }
   ],
   "source": [
    "derec_og = create_datasets(og_1, [og_2])\n",
    "derec_syn = create_datasets(syn_1, [syn_2])\n",
    "\n",
    "derec_evaluation = simpro(derec_og, derec_syn)\n",
    "derec_evaluation.cal_marginal_indicators()\n",
    "derec_evaluation.cal_conditional_indicators()\n"
   ]
  },
  {
   "cell_type": "markdown",
   "id": "b6c61933",
   "metadata": {},
   "source": [
    "# Control Group"
   ]
  },
  {
   "cell_type": "code",
   "execution_count": 75,
   "id": "4e179258",
   "metadata": {},
   "outputs": [],
   "source": [
    "og_1 = pd.read_csv(f\"data/task_id_{task_id}/Control Group/original/unique_feeds_small.csv\")\n",
    "og_2 = pd.read_csv(f\"data/task_id_{task_id}/Control Group/original/unique_ads_small.csv\")\n",
    "\n",
    "syn_1 = pd.read_csv(f\"data/task_id_{task_id}/Control Group/synthetic/realtabformer_syn_parent.csv\")\n",
    "syn_2 = pd.read_csv(f\"data/task_id_{task_id}/Control Group/synthetic/realtabformer_syn_child.csv\")\n",
    "\n",
    "drop_list = ['e_et', 'pt_d', 'ad_close_list_v001', 'ad_close_list_v002', 'ad_close_list_v003', 'log_id']\n",
    "\n",
    "for col in drop_list:\n",
    "    if col in og_1.columns:\n",
    "        og_1 = og_1.drop(col, axis = 1)\n",
    "    if col in og_2.columns:\n",
    "        og_2 = og_2.drop(col, axis = 1)\n",
    "    if col in syn_1.columns:\n",
    "        syn_1 = syn_1.drop(col, axis = 1)\n",
    "    if col in og_2.columns:\n",
    "        syn_2 = syn_2.drop(col, axis = 1)"
   ]
  },
  {
   "cell_type": "code",
   "execution_count": 76,
   "id": "84d09f9f",
   "metadata": {},
   "outputs": [
    {
     "name": "stderr",
     "output_type": "stream",
     "text": [
      "100%|██████████████████████████████████████████████████████████████████████████████| 1936/1936 [05:02<00:00,  6.41it/s]\n"
     ]
    }
   ],
   "source": [
    "cg_og = create_datasets(og_1, [og_2])\n",
    "cg_syn = create_datasets(syn_1, [syn_2])\n",
    "\n",
    "cg_evaluation = simpro(cg_og, cg_syn)\n",
    "cg_evaluation.cal_marginal_indicators()\n",
    "cg_evaluation.cal_conditional_indicators()"
   ]
  },
  {
   "cell_type": "markdown",
   "id": "41de5e98",
   "metadata": {},
   "source": [
    "# CT-GAN \n",
    "\n",
    "The evaluation for CT-GAN takes exceptionally long time as the CTGAN model synthesised a lot of categories in the form of integers so there are a lot of different conditional distribution for each column. This proves superiority on CT-GAN as CT-GAN requires pre-specification of discrete columns while the REaLTabFormer is capable of detecting that itself. "
   ]
  },
  {
   "cell_type": "code",
   "execution_count": 77,
   "id": "6ed51b94",
   "metadata": {},
   "outputs": [],
   "source": [
    "og = pd.read_csv(f\"data/task_id_{task_id}/CTGAN/original_dataset.csv\")\n",
    "syn = pd.read_csv(f\"data/task_id_{task_id}/CTGAN/synthetic_dataset.csv\")\n",
    "\n",
    "col_to_extract = []\n",
    "col_name = []\n",
    "\n",
    "for col in d1_col:\n",
    "    if (col in og.columns): \n",
    "        col_to_extract.append(col)\n",
    "        col_name.append(col)\n",
    "    elif (f\"{col}_x\" in og.columns):\n",
    "        col_to_extract.append(f\"{col}_x\")\n",
    "        col_name.append(col)\n",
    "        \n",
    "og_1 = og[col_to_extract]\n",
    "og_1.columns = col_name\n",
    "\n",
    "col_to_extract = []\n",
    "col_name = []\n",
    "\n",
    "for col in d2_col:\n",
    "    if (col in og.columns): \n",
    "        col_to_extract.append(col)\n",
    "        col_name.append(col)\n",
    "    elif (f\"{col}_y\" in og.columns):\n",
    "        col_to_extract.append(f\"{col}_y\")\n",
    "        col_name.append(col)\n",
    "        \n",
    "og_2 = og[col_to_extract]\n",
    "og_2.columns = col_name\n",
    "\n",
    "col_to_extract = []\n",
    "col_name = []\n",
    "\n",
    "for col in d1_col:\n",
    "    if (col in syn.columns): \n",
    "        col_to_extract.append(col)\n",
    "        col_name.append(col)\n",
    "    elif (f\"{col}_x\" in syn.columns):\n",
    "        col_to_extract.append(f\"{col}_x\")\n",
    "        col_name.append(col)\n",
    "        \n",
    "syn_1 = syn[col_to_extract]\n",
    "syn_1.columns = col_name\n",
    "\n",
    "col_to_extract = []\n",
    "col_name = []\n",
    "\n",
    "for col in d2_col:\n",
    "    if (col in syn.columns): \n",
    "        col_to_extract.append(col)\n",
    "        col_name.append(col)\n",
    "    elif (f\"{col}_y\" in syn.columns):\n",
    "        col_to_extract.append(f\"{col}_y\")\n",
    "        col_name.append(col)\n",
    "        \n",
    "syn_2 = syn[col_to_extract]\n",
    "syn_2.columns = col_name\n",
    "\n",
    "drop_list = ['e_et', 'pt_d', 'ad_close_list_v001', 'ad_close_list_v002', 'ad_close_list_v003', 'log_id']\n",
    "\n",
    "for col in drop_list:\n",
    "    if col in og_1.columns:\n",
    "        og_1 = og_1.drop(col, axis = 1)\n",
    "    if col in og_2.columns:\n",
    "        og_2 = og_2.drop(col, axis = 1)\n",
    "    if col in syn_1.columns:\n",
    "        syn_1 = syn_1.drop(col, axis = 1)\n",
    "    if col in og_2.columns:\n",
    "        syn_2 = syn_2.drop(col, axis = 1)"
   ]
  },
  {
   "cell_type": "code",
   "execution_count": 78,
   "id": "6e8bb592",
   "metadata": {},
   "outputs": [
    {
     "name": "stderr",
     "output_type": "stream",
     "text": [
      "  7%|█████▎                                                                       | 135/1936 [14:58<3:19:50,  6.66s/it]\n"
     ]
    },
    {
     "ename": "KeyboardInterrupt",
     "evalue": "",
     "output_type": "error",
     "traceback": [
      "\u001b[1;31m---------------------------------------------------------------------------\u001b[0m",
      "\u001b[1;31mKeyboardInterrupt\u001b[0m                         Traceback (most recent call last)",
      "Cell \u001b[1;32mIn[78], line 6\u001b[0m\n\u001b[0;32m      4\u001b[0m ctgan_evaluation \u001b[38;5;241m=\u001b[39m simpro(ctgan_og, ctgan_syn)\n\u001b[0;32m      5\u001b[0m ctgan_evaluation\u001b[38;5;241m.\u001b[39mcal_marginal_indicators()\n\u001b[1;32m----> 6\u001b[0m ctgan_evaluation\u001b[38;5;241m.\u001b[39mcal_conditional_indicators()\n",
      "File \u001b[1;32m~\\Downloads\\Research\\KDD_DEREC_submission\\SIMPRO.py:133\u001b[0m, in \u001b[0;36msimpro.cal_conditional_indicators\u001b[1;34m(self)\u001b[0m\n\u001b[0;32m    131\u001b[0m \u001b[38;5;28;01mfor\u001b[39;00m col1 \u001b[38;5;129;01min\u001b[39;00m num_cols:\n\u001b[0;32m    132\u001b[0m         \u001b[38;5;28;01mfor\u001b[39;00m col2 \u001b[38;5;129;01min\u001b[39;00m num_cols:\n\u001b[1;32m--> 133\u001b[0m             p_values[\u001b[38;5;124mf\u001b[39m\u001b[38;5;124m\"\u001b[39m\u001b[38;5;132;01m{\u001b[39;00mcol1\u001b[38;5;132;01m}\u001b[39;00m\u001b[38;5;124m, \u001b[39m\u001b[38;5;132;01m{\u001b[39;00mcol2\u001b[38;5;132;01m}\u001b[39;00m\u001b[38;5;124m\"\u001b[39m] \u001b[38;5;241m=\u001b[39m find_cross_party_feature_correlation(total_og_num[col1], total_og_num[col2], total_syn_num[col1], total_syn_num[col2], corr_type \u001b[38;5;241m=\u001b[39m \u001b[38;5;124m'\u001b[39m\u001b[38;5;124mp\u001b[39m\u001b[38;5;124m'\u001b[39m)\n\u001b[0;32m    134\u001b[0m             w_dis[\u001b[38;5;124mf\u001b[39m\u001b[38;5;124m\"\u001b[39m\u001b[38;5;132;01m{\u001b[39;00mcol1\u001b[38;5;132;01m}\u001b[39;00m\u001b[38;5;124m, \u001b[39m\u001b[38;5;132;01m{\u001b[39;00mcol2\u001b[38;5;132;01m}\u001b[39;00m\u001b[38;5;124m\"\u001b[39m] \u001b[38;5;241m=\u001b[39m find_cross_party_feature_correlation(total_og_num[col1], total_og_num[col2], total_syn_num[col1], total_syn_num[col2], corr_type \u001b[38;5;241m=\u001b[39m \u001b[38;5;124m'\u001b[39m\u001b[38;5;124mw\u001b[39m\u001b[38;5;124m'\u001b[39m)\n\u001b[0;32m    135\u001b[0m             pbar\u001b[38;5;241m.\u001b[39mupdate(\u001b[38;5;241m1\u001b[39m)\n",
      "File \u001b[1;32m~\\Downloads\\Research\\KDD_DEREC_submission\\SIMPRO.py:111\u001b[0m, in \u001b[0;36msimpro.cal_conditional_indicators.<locals>.find_cross_party_feature_correlation\u001b[1;34m(og_col1, og_col2, syn_col1, syn_col2, corr_type)\u001b[0m\n\u001b[0;32m    109\u001b[0m \u001b[38;5;28;01mfor\u001b[39;00m i \u001b[38;5;129;01min\u001b[39;00m \u001b[38;5;28mrange\u001b[39m(og_table\u001b[38;5;241m.\u001b[39mshape[\u001b[38;5;241m0\u001b[39m]):\n\u001b[0;32m    110\u001b[0m     \u001b[38;5;28;01mif\u001b[39;00m corr_type \u001b[38;5;241m==\u001b[39m \u001b[38;5;124m'\u001b[39m\u001b[38;5;124mp\u001b[39m\u001b[38;5;124m'\u001b[39m:\n\u001b[1;32m--> 111\u001b[0m         \u001b[38;5;28;01mif\u001b[39;00m \u001b[38;5;28msum\u001b[39m(syn_prob\u001b[38;5;241m.\u001b[39miloc[i,:]) \u001b[38;5;241m==\u001b[39m \u001b[38;5;241m0\u001b[39m \u001b[38;5;129;01mor\u001b[39;00m \u001b[38;5;28msum\u001b[39m(og_prob\u001b[38;5;241m.\u001b[39miloc[i,:]) \u001b[38;5;241m==\u001b[39m \u001b[38;5;241m0\u001b[39m:\n\u001b[0;32m    112\u001b[0m             corr_table[i] \u001b[38;5;241m=\u001b[39m \u001b[38;5;241m0\u001b[39m\n\u001b[0;32m    113\u001b[0m         \u001b[38;5;28;01melse\u001b[39;00m:\n",
      "File \u001b[1;32m~\\anaconda3\\Lib\\site-packages\\pandas\\core\\indexing.py:1184\u001b[0m, in \u001b[0;36m_LocationIndexer.__getitem__\u001b[1;34m(self, key)\u001b[0m\n\u001b[0;32m   1182\u001b[0m     \u001b[38;5;28;01mif\u001b[39;00m \u001b[38;5;28mself\u001b[39m\u001b[38;5;241m.\u001b[39m_is_scalar_access(key):\n\u001b[0;32m   1183\u001b[0m         \u001b[38;5;28;01mreturn\u001b[39;00m \u001b[38;5;28mself\u001b[39m\u001b[38;5;241m.\u001b[39mobj\u001b[38;5;241m.\u001b[39m_get_value(\u001b[38;5;241m*\u001b[39mkey, takeable\u001b[38;5;241m=\u001b[39m\u001b[38;5;28mself\u001b[39m\u001b[38;5;241m.\u001b[39m_takeable)\n\u001b[1;32m-> 1184\u001b[0m     \u001b[38;5;28;01mreturn\u001b[39;00m \u001b[38;5;28mself\u001b[39m\u001b[38;5;241m.\u001b[39m_getitem_tuple(key)\n\u001b[0;32m   1185\u001b[0m \u001b[38;5;28;01melse\u001b[39;00m:\n\u001b[0;32m   1186\u001b[0m     \u001b[38;5;66;03m# we by definition only have the 0th axis\u001b[39;00m\n\u001b[0;32m   1187\u001b[0m     axis \u001b[38;5;241m=\u001b[39m \u001b[38;5;28mself\u001b[39m\u001b[38;5;241m.\u001b[39maxis \u001b[38;5;129;01mor\u001b[39;00m \u001b[38;5;241m0\u001b[39m\n",
      "File \u001b[1;32m~\\anaconda3\\Lib\\site-packages\\pandas\\core\\indexing.py:1692\u001b[0m, in \u001b[0;36m_iLocIndexer._getitem_tuple\u001b[1;34m(self, tup)\u001b[0m\n\u001b[0;32m   1690\u001b[0m tup \u001b[38;5;241m=\u001b[39m \u001b[38;5;28mself\u001b[39m\u001b[38;5;241m.\u001b[39m_validate_tuple_indexer(tup)\n\u001b[0;32m   1691\u001b[0m \u001b[38;5;28;01mwith\u001b[39;00m suppress(IndexingError):\n\u001b[1;32m-> 1692\u001b[0m     \u001b[38;5;28;01mreturn\u001b[39;00m \u001b[38;5;28mself\u001b[39m\u001b[38;5;241m.\u001b[39m_getitem_lowerdim(tup)\n\u001b[0;32m   1694\u001b[0m \u001b[38;5;28;01mreturn\u001b[39;00m \u001b[38;5;28mself\u001b[39m\u001b[38;5;241m.\u001b[39m_getitem_tuple_same_dim(tup)\n",
      "File \u001b[1;32m~\\anaconda3\\Lib\\site-packages\\pandas\\core\\indexing.py:1065\u001b[0m, in \u001b[0;36m_LocationIndexer._getitem_lowerdim\u001b[1;34m(self, tup)\u001b[0m\n\u001b[0;32m   1061\u001b[0m \u001b[38;5;28;01mfor\u001b[39;00m i, key \u001b[38;5;129;01min\u001b[39;00m \u001b[38;5;28menumerate\u001b[39m(tup):\n\u001b[0;32m   1062\u001b[0m     \u001b[38;5;28;01mif\u001b[39;00m is_label_like(key):\n\u001b[0;32m   1063\u001b[0m         \u001b[38;5;66;03m# We don't need to check for tuples here because those are\u001b[39;00m\n\u001b[0;32m   1064\u001b[0m         \u001b[38;5;66;03m#  caught by the _is_nested_tuple_indexer check above.\u001b[39;00m\n\u001b[1;32m-> 1065\u001b[0m         section \u001b[38;5;241m=\u001b[39m \u001b[38;5;28mself\u001b[39m\u001b[38;5;241m.\u001b[39m_getitem_axis(key, axis\u001b[38;5;241m=\u001b[39mi)\n\u001b[0;32m   1067\u001b[0m         \u001b[38;5;66;03m# We should never have a scalar section here, because\u001b[39;00m\n\u001b[0;32m   1068\u001b[0m         \u001b[38;5;66;03m#  _getitem_lowerdim is only called after a check for\u001b[39;00m\n\u001b[0;32m   1069\u001b[0m         \u001b[38;5;66;03m#  is_scalar_access, which that would be.\u001b[39;00m\n\u001b[0;32m   1070\u001b[0m         \u001b[38;5;28;01mif\u001b[39;00m section\u001b[38;5;241m.\u001b[39mndim \u001b[38;5;241m==\u001b[39m \u001b[38;5;28mself\u001b[39m\u001b[38;5;241m.\u001b[39mndim:\n\u001b[0;32m   1071\u001b[0m             \u001b[38;5;66;03m# we're in the middle of slicing through a MultiIndex\u001b[39;00m\n\u001b[0;32m   1072\u001b[0m             \u001b[38;5;66;03m# revise the key wrt to `section` by inserting an _NS\u001b[39;00m\n",
      "File \u001b[1;32m~\\anaconda3\\Lib\\site-packages\\pandas\\core\\indexing.py:1754\u001b[0m, in \u001b[0;36m_iLocIndexer._getitem_axis\u001b[1;34m(self, key, axis)\u001b[0m\n\u001b[0;32m   1751\u001b[0m \u001b[38;5;66;03m# validate the location\u001b[39;00m\n\u001b[0;32m   1752\u001b[0m \u001b[38;5;28mself\u001b[39m\u001b[38;5;241m.\u001b[39m_validate_integer(key, axis)\n\u001b[1;32m-> 1754\u001b[0m \u001b[38;5;28;01mreturn\u001b[39;00m \u001b[38;5;28mself\u001b[39m\u001b[38;5;241m.\u001b[39mobj\u001b[38;5;241m.\u001b[39m_ixs(key, axis\u001b[38;5;241m=\u001b[39maxis)\n",
      "File \u001b[1;32m~\\anaconda3\\Lib\\site-packages\\pandas\\core\\frame.py:3984\u001b[0m, in \u001b[0;36mDataFrame._ixs\u001b[1;34m(self, i, axis)\u001b[0m\n\u001b[0;32m   3982\u001b[0m \u001b[38;5;66;03m# irow\u001b[39;00m\n\u001b[0;32m   3983\u001b[0m \u001b[38;5;28;01mif\u001b[39;00m axis \u001b[38;5;241m==\u001b[39m \u001b[38;5;241m0\u001b[39m:\n\u001b[1;32m-> 3984\u001b[0m     new_mgr \u001b[38;5;241m=\u001b[39m \u001b[38;5;28mself\u001b[39m\u001b[38;5;241m.\u001b[39m_mgr\u001b[38;5;241m.\u001b[39mfast_xs(i)\n\u001b[0;32m   3986\u001b[0m     \u001b[38;5;66;03m# if we are a copy, mark as such\u001b[39;00m\n\u001b[0;32m   3987\u001b[0m     copy \u001b[38;5;241m=\u001b[39m \u001b[38;5;28misinstance\u001b[39m(new_mgr\u001b[38;5;241m.\u001b[39marray, np\u001b[38;5;241m.\u001b[39mndarray) \u001b[38;5;129;01mand\u001b[39;00m new_mgr\u001b[38;5;241m.\u001b[39marray\u001b[38;5;241m.\u001b[39mbase \u001b[38;5;129;01mis\u001b[39;00m \u001b[38;5;28;01mNone\u001b[39;00m\n",
      "File \u001b[1;32m~\\anaconda3\\Lib\\site-packages\\pandas\\core\\internals\\managers.py:1002\u001b[0m, in \u001b[0;36mBlockManager.fast_xs\u001b[1;34m(self, loc)\u001b[0m\n\u001b[0;32m    998\u001b[0m \u001b[38;5;28;01mfor\u001b[39;00m blk \u001b[38;5;129;01min\u001b[39;00m \u001b[38;5;28mself\u001b[39m\u001b[38;5;241m.\u001b[39mblocks:\n\u001b[0;32m    999\u001b[0m     \u001b[38;5;66;03m# Such assignment may incorrectly coerce NaT to None\u001b[39;00m\n\u001b[0;32m   1000\u001b[0m     \u001b[38;5;66;03m# result[blk.mgr_locs] = blk._slice((slice(None), loc))\u001b[39;00m\n\u001b[0;32m   1001\u001b[0m     \u001b[38;5;28;01mfor\u001b[39;00m i, rl \u001b[38;5;129;01min\u001b[39;00m \u001b[38;5;28menumerate\u001b[39m(blk\u001b[38;5;241m.\u001b[39mmgr_locs):\n\u001b[1;32m-> 1002\u001b[0m         result[rl] \u001b[38;5;241m=\u001b[39m blk\u001b[38;5;241m.\u001b[39miget((i, loc))\n\u001b[0;32m   1004\u001b[0m \u001b[38;5;28;01mif\u001b[39;00m \u001b[38;5;28misinstance\u001b[39m(dtype, ExtensionDtype):\n\u001b[0;32m   1005\u001b[0m     \u001b[38;5;28mcls\u001b[39m \u001b[38;5;241m=\u001b[39m dtype\u001b[38;5;241m.\u001b[39mconstruct_array_type()\n",
      "\u001b[1;31mKeyboardInterrupt\u001b[0m: "
     ]
    }
   ],
   "source": [
    "ctgan_og = create_datasets(og_1, [og_2])\n",
    "ctgan_syn = create_datasets(syn_1, [syn_2])\n",
    "\n",
    "ctgan_evaluation = simpro(ctgan_og, ctgan_syn)\n",
    "ctgan_evaluation.cal_marginal_indicators()\n",
    "ctgan_evaluation.cal_conditional_indicators()"
   ]
  },
  {
   "cell_type": "markdown",
   "id": "a878c685",
   "metadata": {},
   "source": [
    "# TabDDPM"
   ]
  },
  {
   "cell_type": "code",
   "execution_count": 79,
   "id": "11fab0b8",
   "metadata": {},
   "outputs": [],
   "source": [
    "og = pd.read_csv(f\"data/task_id_{task_id}/TabDDPM/original_dataset.csv\")\n",
    "syn = pd.read_csv(f\"data/task_id_{task_id}/TabDDPM/synthetic_dataset.csv\")\n",
    "\n",
    "col_to_extract = []\n",
    "col_name = []\n",
    "\n",
    "for col in d1_col:\n",
    "    if (col in og.columns): \n",
    "        col_to_extract.append(col)\n",
    "        col_name.append(col)\n",
    "    elif (f\"{col}_x\" in og.columns):\n",
    "        col_to_extract.append(f\"{col}_x\")\n",
    "        col_name.append(col)\n",
    "        \n",
    "og_1 = og[col_to_extract]\n",
    "og_1.columns = col_name\n",
    "\n",
    "col_to_extract = []\n",
    "col_name = []\n",
    "\n",
    "for col in d2_col:\n",
    "    if (col in og.columns): \n",
    "        col_to_extract.append(col)\n",
    "        col_name.append(col)\n",
    "    elif (f\"{col}_y\" in og.columns):\n",
    "        col_to_extract.append(f\"{col}_y\")\n",
    "        col_name.append(col)\n",
    "        \n",
    "og_2 = og[col_to_extract]\n",
    "og_2.columns = col_name\n",
    "\n",
    "col_to_extract = []\n",
    "col_name = []\n",
    "\n",
    "for col in d1_col:\n",
    "    if (col in syn.columns): \n",
    "        col_to_extract.append(col)\n",
    "        col_name.append(col)\n",
    "    elif (f\"{col}_x\" in syn.columns):\n",
    "        col_to_extract.append(f\"{col}_x\")\n",
    "        col_name.append(col)\n",
    "        \n",
    "syn_1 = syn[col_to_extract]\n",
    "syn_1.columns = col_name\n",
    "\n",
    "col_to_extract = []\n",
    "col_name = []\n",
    "\n",
    "for col in d2_col:\n",
    "    if (col in syn.columns): \n",
    "        col_to_extract.append(col)\n",
    "        col_name.append(col)\n",
    "    elif (f\"{col}_y\" in syn.columns):\n",
    "        col_to_extract.append(f\"{col}_y\")\n",
    "        col_name.append(col)\n",
    "        \n",
    "syn_2 = syn[col_to_extract]\n",
    "syn_2.columns = col_name\n",
    "\n",
    "drop_list = ['e_et', 'pt_d', 'ad_close_list_v001', 'ad_close_list_v002', 'ad_close_list_v003', 'log_id']\n",
    "\n",
    "for col in drop_list:\n",
    "    if col in og_1.columns:\n",
    "        og_1 = og_1.drop(col, axis = 1)\n",
    "    if col in og_2.columns:\n",
    "        og_2 = og_2.drop(col, axis = 1)\n",
    "    if col in syn_1.columns:\n",
    "        syn_1 = syn_1.drop(col, axis = 1)\n",
    "    if col in og_2.columns:\n",
    "        syn_2 = syn_2.drop(col, axis = 1)"
   ]
  },
  {
   "cell_type": "code",
   "execution_count": 80,
   "id": "b6b716e8",
   "metadata": {},
   "outputs": [
    {
     "name": "stderr",
     "output_type": "stream",
     "text": [
      "100%|██████████████████████████████████████████████████████████████████████████████| 1936/1936 [03:08<00:00, 10.24it/s]\n"
     ]
    }
   ],
   "source": [
    "tabddpm_og = create_datasets(og_1, [og_2])\n",
    "tabddpm_syn = create_datasets(syn_1, [syn_2])\n",
    "\n",
    "tabddpm_evaluation = simpro(tabddpm_og, tabddpm_syn)\n",
    "tabddpm_evaluation.cal_marginal_indicators()\n",
    "tabddpm_evaluation.cal_conditional_indicators()"
   ]
  },
  {
   "cell_type": "markdown",
   "id": "8537f344",
   "metadata": {},
   "source": [
    "# All indicators are outputted into the all_result_record.xlsx file for logging and better table design. "
   ]
  },
  {
   "cell_type": "code",
   "execution_count": null,
   "id": "58b09abf",
   "metadata": {},
   "outputs": [],
   "source": []
  }
 ],
 "metadata": {
  "kernelspec": {
   "display_name": "Python 3 (ipykernel)",
   "language": "python",
   "name": "python3"
  },
  "language_info": {
   "codemirror_mode": {
    "name": "ipython",
    "version": 3
   },
   "file_extension": ".py",
   "mimetype": "text/x-python",
   "name": "python",
   "nbconvert_exporter": "python",
   "pygments_lexer": "ipython3",
   "version": "3.11.9"
  }
 },
 "nbformat": 4,
 "nbformat_minor": 5
}
